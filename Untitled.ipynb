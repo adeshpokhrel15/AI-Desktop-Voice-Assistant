{
 "cells": [
  {
   "cell_type": "code",
   "execution_count": 10,
   "metadata": {},
   "outputs": [
    {
     "name": "stdout",
     "output_type": "stream",
     "text": [
      "Listening...\n",
      "Recognizing...\n",
      "User said: according to Wikipedia\n",
      "\n",
      "According to Jim is an American sitcom television series starring Jim Belushi in the title role as a suburban father of three children (and then five children, starting with the seventh season finale). It originally ran on ABC from October 3, 2001, to June 2, 2009.\n"
     ]
    }
   ],
   "source": [
    "#Importing Library \n",
    "import pyttsx3 #pip install pyttsx3\n",
    "import speech_recognition as sr #pip install speechRecognition\n",
    "import datetime\n",
    "import wikipedia  #pip install wikipedia\n",
    "import webbrowser\n",
    "import os\n",
    "#import smtplib\n",
    "\n",
    "engine = pyttsx3.init('sapi5')   \n",
    "voices = engine.getProperty('voices')\n",
    "# print(voices[1].id) \n",
    "engine.setProperty('voice', voices[0].id)\n",
    "\n",
    "\n",
    "def speak(audio):\n",
    "    engine.say(audio)\n",
    "    engine.runAndWait()\n",
    "\n",
    "#To detect the time and tell what is the time\n",
    "def wishMe():\n",
    "    hour = int(datetime.datetime.now().hour)\n",
    "    if hour>=0 and hour<12:\n",
    "        speak(\"Good Morning!\")\n",
    "\n",
    "    elif hour>=12 and hour<18:\n",
    "        speak(\"Good Afternoon!\")   \n",
    "\n",
    "    else:\n",
    "        speak(\"Good Evening!\")  \n",
    "\n",
    "    speak(\"I am Real Madrid Sir. How can I help you\")       \n",
    "\n",
    "def takeCommand():\n",
    "    #It takes microphone input from the user and returns string output\n",
    "\n",
    "    r = sr.Recognizer()\n",
    "    with sr.Microphone() as source:\n",
    "        print(\"Listening...\")\n",
    "        r.pause_threshold = 1\n",
    "        audio = r.listen(source)\n",
    "\n",
    "    try:\n",
    "        print(\"Recognizing...\")    \n",
    "        query = r.recognize_google(audio, language='en-in')\n",
    "        print(f\"User said: {query}\\n\")\n",
    "\n",
    "    except Exception as e:\n",
    "        # print(e)    \n",
    "        print(\"PLease say that again...\")  \n",
    "        return \"None\"\n",
    "    return query\n",
    "\n",
    "if __name__ == \"__main__\":\n",
    "    wishMe()\n",
    "    #while True: #if you want multiple run \n",
    "    if 1: #one task at a time\n",
    "        query = takeCommand().lower()\n",
    "\n",
    "        # Logic for executing tasks based on query\n",
    "        if 'wikipedia' in query: \n",
    "            speak('Searching Wikipedia...')\n",
    "            query = query.replace(\"wikipedia\", \"\")\n",
    "            results = wikipedia.summary(query, sentences=2)\n",
    "            speak(\"According to Wikipedia\")  #Say like: Real Madrid According to wikipedia.....\n",
    "            print(results)\n",
    "            speak(results)\n",
    "        \n",
    "        #to open the link in the browser \n",
    "        elif 'open youtube' in query:   \n",
    "            webbrowser.open(\"youtube.com\")\n",
    "\n",
    "        elif 'open google' in query:\n",
    "            webbrowser.open(\"google.com\")\n",
    "\n",
    "        elif 'open stackoverflow' in query:\n",
    "            webbrowser.open(\"stackoverflow.com\") \n",
    "        \n",
    "        elif 'open facebook' in query:\n",
    "            webbrowsser.open(\"facebook.com\")\n",
    "        \n",
    "        elif 'open instagram' in query:\n",
    "            webbrowser.open(\"instagram.com\")\n",
    "        \n",
    "        #to know the exact time \n",
    "        elif 'the time' in query:\n",
    "            strTime = datetime.datetime.now().strftime(\"%H:%M:%S\")    \n",
    "            speak(f\"Sir, the time is {strTime}\")\n",
    "\n",
    "        "
   ]
  },
  {
   "cell_type": "code",
   "execution_count": 1,
   "metadata": {},
   "outputs": [
    {
     "name": "stdout",
     "output_type": "stream",
     "text": [
      "listening...\n",
      "Nepal\n"
     ]
    }
   ],
   "source": [
    "#If you want to say something and print the result \n",
    "\n",
    "def hear():\n",
    "    import speech_recognition as sr\n",
    "    ear = sr.Recognizer()\n",
    "    with sr.Microphone() as sourse:\n",
    "        print(\"listening...\")\n",
    "        audio = ear.listen(sourse)\n",
    "        try:\n",
    "            text = ear.recognize_google(audio)\n",
    "            print(text)\n",
    "        except:\n",
    "            print(\"i didn't get that...\")\n",
    "\n",
    "hear()"
   ]
  }
 ],
 "metadata": {
  "kernelspec": {
   "display_name": "Python 3",
   "language": "python",
   "name": "python3"
  },
  "language_info": {
   "codemirror_mode": {
    "name": "ipython",
    "version": 3
   },
   "file_extension": ".py",
   "mimetype": "text/x-python",
   "name": "python",
   "nbconvert_exporter": "python",
   "pygments_lexer": "ipython3",
   "version": "3.8.5"
  }
 },
 "nbformat": 4,
 "nbformat_minor": 4
}
